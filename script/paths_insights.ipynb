{
 "cells": [
  {
   "cell_type": "code",
   "execution_count": 4,
   "metadata": {},
   "outputs": [
    {
     "name": "stdout",
     "output_type": "stream",
     "text": [
      "/Users/Daniela/Documents/EPFLMasters/Winter2/Ada/AdaRepo/ADA_wikispeedia\n"
     ]
    }
   ],
   "source": [
    "import pandas as pd\n",
    "import os\n",
    "import numpy as np\n",
    "import ast\n",
    "import seaborn as sns\n",
    "import matplotlib.pyplot as plt\n",
    "import networkx as nx\n",
    "from scipy import stats\n",
    "\n",
    "\n",
    "os.chdir(\"/Users/Daniela/Documents/EPFLMasters/Winter2/Ada/AdaRepo/ADA_wikispeedia\")\n",
    "print(os.getcwd())\n",
    "\n",
    "SAVE_FOLDER = \"data_processed\""
   ]
  },
  {
   "cell_type": "code",
   "execution_count": 5,
   "metadata": {},
   "outputs": [
    {
     "data": {
      "text/html": [
       "<div>\n",
       "<style scoped>\n",
       "    .dataframe tbody tr th:only-of-type {\n",
       "        vertical-align: middle;\n",
       "    }\n",
       "\n",
       "    .dataframe tbody tr th {\n",
       "        vertical-align: top;\n",
       "    }\n",
       "\n",
       "    .dataframe thead th {\n",
       "        text-align: right;\n",
       "    }\n",
       "</style>\n",
       "<table border=\"1\" class=\"dataframe\">\n",
       "  <thead>\n",
       "    <tr style=\"text-align: right;\">\n",
       "      <th></th>\n",
       "      <th>hashedIpAddress</th>\n",
       "      <th>timestamp</th>\n",
       "      <th>durationInSec</th>\n",
       "      <th>path</th>\n",
       "      <th>rating</th>\n",
       "    </tr>\n",
       "  </thead>\n",
       "  <tbody>\n",
       "    <tr>\n",
       "      <th>0</th>\n",
       "      <td>6a3701d319fc3754</td>\n",
       "      <td>1297740409</td>\n",
       "      <td>166</td>\n",
       "      <td>14th_century;15th_century;16th_century;Pacific...</td>\n",
       "      <td>NaN</td>\n",
       "    </tr>\n",
       "    <tr>\n",
       "      <th>1</th>\n",
       "      <td>3824310e536af032</td>\n",
       "      <td>1344753412</td>\n",
       "      <td>88</td>\n",
       "      <td>14th_century;Europe;Africa;Atlantic_slave_trad...</td>\n",
       "      <td>3.0</td>\n",
       "    </tr>\n",
       "    <tr>\n",
       "      <th>2</th>\n",
       "      <td>415612e93584d30e</td>\n",
       "      <td>1349298640</td>\n",
       "      <td>138</td>\n",
       "      <td>14th_century;Niger;Nigeria;British_Empire;Slav...</td>\n",
       "      <td>NaN</td>\n",
       "    </tr>\n",
       "  </tbody>\n",
       "</table>\n",
       "</div>"
      ],
      "text/plain": [
       "    hashedIpAddress   timestamp  durationInSec  \\\n",
       "0  6a3701d319fc3754  1297740409            166   \n",
       "1  3824310e536af032  1344753412             88   \n",
       "2  415612e93584d30e  1349298640            138   \n",
       "\n",
       "                                                path  rating  \n",
       "0  14th_century;15th_century;16th_century;Pacific...     NaN  \n",
       "1  14th_century;Europe;Africa;Atlantic_slave_trad...     3.0  \n",
       "2  14th_century;Niger;Nigeria;British_Empire;Slav...     NaN  "
      ]
     },
     "execution_count": 5,
     "metadata": {},
     "output_type": "execute_result"
    }
   ],
   "source": [
    "paths_finished_df = pd.read_csv(\"data/wikispeedia_paths-and-graph/paths_finished.tsv\", names=[\"hashedIpAddress\", \"timestamp\", \"durationInSec\", \"path\", \"rating\"], sep=\"\\t\", skiprows=16)\n",
    "paths_finished_df.head(3)"
   ]
  },
  {
   "cell_type": "code",
   "execution_count": 6,
   "metadata": {},
   "outputs": [
    {
     "data": {
      "text/html": [
       "<div>\n",
       "<style scoped>\n",
       "    .dataframe tbody tr th:only-of-type {\n",
       "        vertical-align: middle;\n",
       "    }\n",
       "\n",
       "    .dataframe tbody tr th {\n",
       "        vertical-align: top;\n",
       "    }\n",
       "\n",
       "    .dataframe thead th {\n",
       "        text-align: right;\n",
       "    }\n",
       "</style>\n",
       "<table border=\"1\" class=\"dataframe\">\n",
       "  <thead>\n",
       "    <tr style=\"text-align: right;\">\n",
       "      <th></th>\n",
       "      <th>hashedIpAddress</th>\n",
       "      <th>timestamp</th>\n",
       "      <th>durationInSec</th>\n",
       "      <th>path</th>\n",
       "      <th>target</th>\n",
       "      <th>type</th>\n",
       "    </tr>\n",
       "  </thead>\n",
       "  <tbody>\n",
       "    <tr>\n",
       "      <th>0</th>\n",
       "      <td>2426091a53125110</td>\n",
       "      <td>1297054935</td>\n",
       "      <td>1804</td>\n",
       "      <td>Obi-Wan_Kenobi</td>\n",
       "      <td>Microsoft</td>\n",
       "      <td>timeout</td>\n",
       "    </tr>\n",
       "    <tr>\n",
       "      <th>1</th>\n",
       "      <td>26141fd878806294</td>\n",
       "      <td>1297055651</td>\n",
       "      <td>1805</td>\n",
       "      <td>Julius_Caesar</td>\n",
       "      <td>Caracas</td>\n",
       "      <td>timeout</td>\n",
       "    </tr>\n",
       "    <tr>\n",
       "      <th>2</th>\n",
       "      <td>2b015fb8181c48f2</td>\n",
       "      <td>1297090819</td>\n",
       "      <td>1818</td>\n",
       "      <td>Malawi;Democracy;Alexander_the_Great</td>\n",
       "      <td>First_Crusade</td>\n",
       "      <td>timeout</td>\n",
       "    </tr>\n",
       "  </tbody>\n",
       "</table>\n",
       "</div>"
      ],
      "text/plain": [
       "    hashedIpAddress   timestamp  durationInSec  \\\n",
       "0  2426091a53125110  1297054935           1804   \n",
       "1  26141fd878806294  1297055651           1805   \n",
       "2  2b015fb8181c48f2  1297090819           1818   \n",
       "\n",
       "                                   path         target     type  \n",
       "0                        Obi-Wan_Kenobi      Microsoft  timeout  \n",
       "1                         Julius_Caesar        Caracas  timeout  \n",
       "2  Malawi;Democracy;Alexander_the_Great  First_Crusade  timeout  "
      ]
     },
     "execution_count": 6,
     "metadata": {},
     "output_type": "execute_result"
    }
   ],
   "source": [
    "\n",
    "#hashedIpAddress   timestamp   durationInSec   path   target   type\n",
    "paths_unfinished_df = pd.read_csv(\"data/wikispeedia_paths-and-graph/paths_unfinished.tsv\", names=[\"hashedIpAddress\", \"timestamp\", \"durationInSec\", \"path\", \"target\", \"type\"], sep=\"\\t\", skiprows=17)\n",
    "paths_unfinished_df.head(3)\n"
   ]
  },
  {
   "cell_type": "markdown",
   "metadata": {},
   "source": [
    "## MODIFYING DATA FRAMES FOR EASIER USAGE\n"
   ]
  },
  {
   "cell_type": "code",
   "execution_count": 7,
   "metadata": {},
   "outputs": [
    {
     "data": {
      "text/html": [
       "<div>\n",
       "<style scoped>\n",
       "    .dataframe tbody tr th:only-of-type {\n",
       "        vertical-align: middle;\n",
       "    }\n",
       "\n",
       "    .dataframe tbody tr th {\n",
       "        vertical-align: top;\n",
       "    }\n",
       "\n",
       "    .dataframe thead th {\n",
       "        text-align: right;\n",
       "    }\n",
       "</style>\n",
       "<table border=\"1\" class=\"dataframe\">\n",
       "  <thead>\n",
       "    <tr style=\"text-align: right;\">\n",
       "      <th></th>\n",
       "      <th>hashedIpAddress</th>\n",
       "      <th>timestamp</th>\n",
       "      <th>durationInSec</th>\n",
       "      <th>path</th>\n",
       "      <th>rating</th>\n",
       "    </tr>\n",
       "  </thead>\n",
       "  <tbody>\n",
       "    <tr>\n",
       "      <th>0</th>\n",
       "      <td>6a3701d319fc3754</td>\n",
       "      <td>1297740409</td>\n",
       "      <td>166</td>\n",
       "      <td>[14th_century, 15th_century, 16th_century, Pac...</td>\n",
       "      <td>NaN</td>\n",
       "    </tr>\n",
       "    <tr>\n",
       "      <th>1</th>\n",
       "      <td>3824310e536af032</td>\n",
       "      <td>1344753412</td>\n",
       "      <td>88</td>\n",
       "      <td>[14th_century, Europe, Africa, Atlantic_slave_...</td>\n",
       "      <td>3.0</td>\n",
       "    </tr>\n",
       "    <tr>\n",
       "      <th>2</th>\n",
       "      <td>415612e93584d30e</td>\n",
       "      <td>1349298640</td>\n",
       "      <td>138</td>\n",
       "      <td>[14th_century, Niger, Nigeria, British_Empire,...</td>\n",
       "      <td>NaN</td>\n",
       "    </tr>\n",
       "  </tbody>\n",
       "</table>\n",
       "</div>"
      ],
      "text/plain": [
       "    hashedIpAddress   timestamp  durationInSec  \\\n",
       "0  6a3701d319fc3754  1297740409            166   \n",
       "1  3824310e536af032  1344753412             88   \n",
       "2  415612e93584d30e  1349298640            138   \n",
       "\n",
       "                                                path  rating  \n",
       "0  [14th_century, 15th_century, 16th_century, Pac...     NaN  \n",
       "1  [14th_century, Europe, Africa, Atlantic_slave_...     3.0  \n",
       "2  [14th_century, Niger, Nigeria, British_Empire,...     NaN  "
      ]
     },
     "execution_count": 7,
     "metadata": {},
     "output_type": "execute_result"
    }
   ],
   "source": [
    "paths_finished_df[\"path\"] = paths_finished_df[\"path\"].apply(lambda p : p.split(\";\"))\n",
    "paths_finished_df.head(3)\n"
   ]
  },
  {
   "cell_type": "code",
   "execution_count": 8,
   "metadata": {},
   "outputs": [
    {
     "name": "stdout",
     "output_type": "stream",
     "text": [
      "The number of FINISHED paths where there was a backtrack is: 8995 out of 51318,, about 17.53%\n"
     ]
    }
   ],
   "source": [
    "backtracked_finished = paths_finished_df[paths_finished_df[\"path\"].apply(lambda path: \"<\" in path)]\n",
    "print(f\"The number of FINISHED paths where there was a backtrack is: {len(backtracked_finished)} out of {len(paths_finished_df)},, about {(len(backtracked_finished)/len(paths_finished_df) * 100):.2f}%\")"
   ]
  },
  {
   "cell_type": "code",
   "execution_count": 9,
   "metadata": {},
   "outputs": [
    {
     "data": {
      "text/html": [
       "<div>\n",
       "<style scoped>\n",
       "    .dataframe tbody tr th:only-of-type {\n",
       "        vertical-align: middle;\n",
       "    }\n",
       "\n",
       "    .dataframe tbody tr th {\n",
       "        vertical-align: top;\n",
       "    }\n",
       "\n",
       "    .dataframe thead th {\n",
       "        text-align: right;\n",
       "    }\n",
       "</style>\n",
       "<table border=\"1\" class=\"dataframe\">\n",
       "  <thead>\n",
       "    <tr style=\"text-align: right;\">\n",
       "      <th></th>\n",
       "      <th>hashedIpAddress</th>\n",
       "      <th>timestamp</th>\n",
       "      <th>durationInSec</th>\n",
       "      <th>path</th>\n",
       "      <th>target</th>\n",
       "      <th>type</th>\n",
       "    </tr>\n",
       "  </thead>\n",
       "  <tbody>\n",
       "    <tr>\n",
       "      <th>0</th>\n",
       "      <td>2426091a53125110</td>\n",
       "      <td>1297054935</td>\n",
       "      <td>1804</td>\n",
       "      <td>[Obi-Wan_Kenobi]</td>\n",
       "      <td>Microsoft</td>\n",
       "      <td>timeout</td>\n",
       "    </tr>\n",
       "    <tr>\n",
       "      <th>1</th>\n",
       "      <td>26141fd878806294</td>\n",
       "      <td>1297055651</td>\n",
       "      <td>1805</td>\n",
       "      <td>[Julius_Caesar]</td>\n",
       "      <td>Caracas</td>\n",
       "      <td>timeout</td>\n",
       "    </tr>\n",
       "    <tr>\n",
       "      <th>2</th>\n",
       "      <td>2b015fb8181c48f2</td>\n",
       "      <td>1297090819</td>\n",
       "      <td>1818</td>\n",
       "      <td>[Malawi, Democracy, Alexander_the_Great]</td>\n",
       "      <td>First_Crusade</td>\n",
       "      <td>timeout</td>\n",
       "    </tr>\n",
       "  </tbody>\n",
       "</table>\n",
       "</div>"
      ],
      "text/plain": [
       "    hashedIpAddress   timestamp  durationInSec  \\\n",
       "0  2426091a53125110  1297054935           1804   \n",
       "1  26141fd878806294  1297055651           1805   \n",
       "2  2b015fb8181c48f2  1297090819           1818   \n",
       "\n",
       "                                       path         target     type  \n",
       "0                          [Obi-Wan_Kenobi]      Microsoft  timeout  \n",
       "1                           [Julius_Caesar]        Caracas  timeout  \n",
       "2  [Malawi, Democracy, Alexander_the_Great]  First_Crusade  timeout  "
      ]
     },
     "execution_count": 9,
     "metadata": {},
     "output_type": "execute_result"
    }
   ],
   "source": [
    "paths_unfinished_df[\"path\"] = paths_unfinished_df[\"path\"].apply(lambda p : p.split(\";\"))\n",
    "paths_unfinished_df.head(3)"
   ]
  },
  {
   "cell_type": "code",
   "execution_count": 10,
   "metadata": {},
   "outputs": [
    {
     "name": "stdout",
     "output_type": "stream",
     "text": [
      "The number of UNFINISHED paths where there was a backtrack is: 5201 out of 24875, about 20.91%\n"
     ]
    }
   ],
   "source": [
    "backtracked_unfinished = paths_unfinished_df[paths_unfinished_df[\"path\"].apply(lambda path: \"<\" in path)]\n",
    "print(f\"The number of UNFINISHED paths where there was a backtrack is: {len(backtracked_unfinished)} out of {len(paths_unfinished_df)}, about {(len(backtracked_unfinished)/len(paths_unfinished_df) * 100):.2f}%\")\n"
   ]
  },
  {
   "cell_type": "code",
   "execution_count": 11,
   "metadata": {},
   "outputs": [
    {
     "data": {
      "text/html": [
       "<div>\n",
       "<style scoped>\n",
       "    .dataframe tbody tr th:only-of-type {\n",
       "        vertical-align: middle;\n",
       "    }\n",
       "\n",
       "    .dataframe tbody tr th {\n",
       "        vertical-align: top;\n",
       "    }\n",
       "\n",
       "    .dataframe thead th {\n",
       "        text-align: right;\n",
       "    }\n",
       "</style>\n",
       "<table border=\"1\" class=\"dataframe\">\n",
       "  <thead>\n",
       "    <tr style=\"text-align: right;\">\n",
       "      <th></th>\n",
       "      <th>finished</th>\n",
       "      <th>unfinished</th>\n",
       "      <th>total_paths</th>\n",
       "      <th>backtracked_percentage_finished</th>\n",
       "      <th>backtracked_percentage_unfinished</th>\n",
       "    </tr>\n",
       "  </thead>\n",
       "  <tbody>\n",
       "    <tr>\n",
       "      <th>0</th>\n",
       "      <td>51318.0</td>\n",
       "      <td>24875.0</td>\n",
       "      <td>76193.0</td>\n",
       "      <td>17.527963</td>\n",
       "      <td>20.908543</td>\n",
       "    </tr>\n",
       "  </tbody>\n",
       "</table>\n",
       "</div>"
      ],
      "text/plain": [
       "   finished  unfinished  total_paths  backtracked_percentage_finished  \\\n",
       "0   51318.0     24875.0      76193.0                        17.527963   \n",
       "\n",
       "   backtracked_percentage_unfinished  \n",
       "0                          20.908543  "
      ]
     },
     "metadata": {},
     "output_type": "display_data"
    },
    {
     "data": {
      "text/html": [
       "<div>\n",
       "<style scoped>\n",
       "    .dataframe tbody tr th:only-of-type {\n",
       "        vertical-align: middle;\n",
       "    }\n",
       "\n",
       "    .dataframe tbody tr th {\n",
       "        vertical-align: top;\n",
       "    }\n",
       "\n",
       "    .dataframe thead th {\n",
       "        text-align: right;\n",
       "    }\n",
       "</style>\n",
       "<table border=\"1\" class=\"dataframe\">\n",
       "  <thead>\n",
       "    <tr style=\"text-align: right;\">\n",
       "      <th></th>\n",
       "      <th>Path Type</th>\n",
       "      <th>Number of Paths</th>\n",
       "    </tr>\n",
       "  </thead>\n",
       "  <tbody>\n",
       "    <tr>\n",
       "      <th>0</th>\n",
       "      <td>Finished</td>\n",
       "      <td>51318</td>\n",
       "    </tr>\n",
       "    <tr>\n",
       "      <th>1</th>\n",
       "      <td>Unfinished</td>\n",
       "      <td>24875</td>\n",
       "    </tr>\n",
       "  </tbody>\n",
       "</table>\n",
       "</div>"
      ],
      "text/plain": [
       "    Path Type  Number of Paths\n",
       "0    Finished            51318\n",
       "1  Unfinished            24875"
      ]
     },
     "metadata": {},
     "output_type": "display_data"
    },
    {
     "data": {
      "image/png": "[encoded data removed]",
      "text/plain": [
       "<Figure size 800x600 with 1 Axes>"
      ]
     },
     "metadata": {},
     "output_type": "display_data"
    },
    {
     "data": {
      "text/html": [
       "<div>\n",
       "<style scoped>\n",
       "    .dataframe tbody tr th:only-of-type {\n",
       "        vertical-align: middle;\n",
       "    }\n",
       "\n",
       "    .dataframe tbody tr th {\n",
       "        vertical-align: top;\n",
       "    }\n",
       "\n",
       "    .dataframe thead th {\n",
       "        text-align: right;\n",
       "    }\n",
       "</style>\n",
       "<table border=\"1\" class=\"dataframe\">\n",
       "  <thead>\n",
       "    <tr style=\"text-align: right;\">\n",
       "      <th></th>\n",
       "      <th>Path Type</th>\n",
       "      <th>Percentage of Paths</th>\n",
       "    </tr>\n",
       "  </thead>\n",
       "  <tbody>\n",
       "    <tr>\n",
       "      <th>0</th>\n",
       "      <td>Finished</td>\n",
       "      <td>17.527963</td>\n",
       "    </tr>\n",
       "    <tr>\n",
       "      <th>1</th>\n",
       "      <td>Unifinished</td>\n",
       "      <td>20.908543</td>\n",
       "    </tr>\n",
       "  </tbody>\n",
       "</table>\n",
       "</div>"
      ],
      "text/plain": [
       "     Path Type  Percentage of Paths\n",
       "0     Finished            17.527963\n",
       "1  Unifinished            20.908543"
      ]
     },
     "metadata": {},
     "output_type": "display_data"
    },
    {
     "data": {
      "image/png": "[encoded data removed]",
      "text/plain": [
       "<Figure size 800x600 with 1 Axes>"
      ]
     },
     "metadata": {},
     "output_type": "display_data"
    }
   ],
   "source": [
    "finished_unfinished_summary_df = pd.DataFrame(columns=[\"finished\", \"unfinished\", \"total_paths\", \"backtracked_percentage_finished\", \"backtracked_percentage_unfinished\"])\n",
    "# finished_unfinished_summary_df[\"finished\"] = len(paths_finished_df)\n",
    "# finished_unfinished_summary_df[\"unfinished\"] = len(paths_unfinished_df)\n",
    "# finished_unfinished_summary_df[\"total_paths\"] = \n",
    "finished_paths = len(paths_finished_df)\n",
    "\n",
    "# Number of unfinished paths\n",
    "unfinished_paths = len(paths_unfinished_df)\n",
    "\n",
    "# Total number of paths\n",
    "total_paths = finished_paths + unfinished_paths\n",
    "\n",
    "# Percentage of paths with a backtrack for finished paths\n",
    "backtrack_percentage_finished = (len(backtracked_finished) / finished_paths)*100 if finished_paths > 0 else 0\n",
    "\n",
    "# Percentage of paths with a backtrack for unfinished paths\n",
    "backtrack_percentage_unfinished = (len(backtracked_unfinished) / unfinished_paths)*100 if unfinished_paths > 0 else 0\n",
    "\n",
    "# Add these values to the summary DataFrame\n",
    "finished_unfinished_summary_df.loc[0] = [finished_paths, unfinished_paths, total_paths, backtrack_percentage_finished, backtrack_percentage_unfinished]\n",
    "display(finished_unfinished_summary_df)\n",
    "\n",
    "bar_paths_data = pd.DataFrame({\n",
    "    'Path Type': ['Finished', 'Unfinished'],\n",
    "    'Number of Paths': [finished_paths, unfinished_paths]\n",
    "})\n",
    "display(bar_paths_data)\n",
    "\n",
    "# Create bar plot\n",
    "plt.figure(figsize=(8, 6))\n",
    "axs =sns.barplot(x='Path Type', y='Number of Paths', data=bar_paths_data)\n",
    "plt.title('Number of Finished and Unfinished Paths')\n",
    "plt.xlabel('Path Type')\n",
    "plt.ylabel('Number of Paths')\n",
    "for bar in axs.containers:\n",
    "  axs.bar_label(bar, fmt='%.0f', label_type='edge')\n",
    "plt.show()\n",
    "\n",
    "bar_per_backtracked = pd.DataFrame({\n",
    "  'Path Type': ['Finished', 'Unifinished'],\n",
    "  'Percentage of Paths':[backtrack_percentage_finished, backtrack_percentage_unfinished]\n",
    "})\n",
    "\n",
    "display(bar_per_backtracked)\n",
    "plt.figure(figsize=(8, 6))\n",
    "axs = sns.barplot(x='Path Type', y='Percentage of Paths', data=bar_per_backtracked)\n",
    "plt.title('Perentage of Paths with Back Clicks')\n",
    "plt.xlabel('Path Type')\n",
    "plt.ylabel('Percentage of Paths')\n",
    "for bar in axs.containers:\n",
    "  axs.bar_label(bar, fmt='%.2f', label_type='edge')\n",
    "plt.show()\n"
   ]
  },
  {
   "cell_type": "markdown",
   "metadata": {},
   "source": [
    "Let's replace the backtrack symbol with the page name it went back to"
   ]
  },
  {
   "cell_type": "code",
   "execution_count": 12,
   "metadata": {},
   "outputs": [],
   "source": [
    "def replace_backClicks(path_arr):\n",
    "  #look into the path array and if you find a < character at position n, you replace it with the n-2 page.\n",
    "  for idx, n in enumerate(path_arr):\n",
    "    if n == \"<\" and idx >= 2:\n",
    "      path_arr[idx] = path_arr[idx-2]\n",
    "\n",
    "  return path_arr\n",
    "\n"
   ]
  },
  {
   "cell_type": "code",
   "execution_count": 13,
   "metadata": {},
   "outputs": [
    {
     "data": {
      "text/plain": [
       "0"
      ]
     },
     "execution_count": 13,
     "metadata": {},
     "output_type": "execute_result"
    }
   ],
   "source": [
    "paths_finished_df[\"path\"] = paths_finished_df[\"path\"].apply(replace_backClicks)\n",
    "backtracked_finished = paths_finished_df[paths_finished_df[\"path\"].apply(lambda path: \"<\" in path)]\n",
    "len(backtracked_finished)\n"
   ]
  },
  {
   "cell_type": "code",
   "execution_count": 14,
   "metadata": {},
   "outputs": [
    {
     "data": {
      "text/plain": [
       "0"
      ]
     },
     "execution_count": 14,
     "metadata": {},
     "output_type": "execute_result"
    }
   ],
   "source": [
    "paths_unfinished_df[\"path\"] = paths_unfinished_df[\"path\"].apply(replace_backClicks)\n",
    "backtracked_unfinished = paths_unfinished_df[paths_unfinished_df[\"path\"].apply(lambda path: \"<\" in path)]\n",
    "len(backtracked_unfinished)"
   ]
  },
  {
   "cell_type": "code",
   "execution_count": 15,
   "metadata": {},
   "outputs": [
    {
     "data": {
      "text/html": [
       "<div>\n",
       "<style scoped>\n",
       "    .dataframe tbody tr th:only-of-type {\n",
       "        vertical-align: middle;\n",
       "    }\n",
       "\n",
       "    .dataframe tbody tr th {\n",
       "        vertical-align: top;\n",
       "    }\n",
       "\n",
       "    .dataframe thead th {\n",
       "        text-align: right;\n",
       "    }\n",
       "</style>\n",
       "<table border=\"1\" class=\"dataframe\">\n",
       "  <thead>\n",
       "    <tr style=\"text-align: right;\">\n",
       "      <th></th>\n",
       "      <th>hashedIpAddress</th>\n",
       "      <th>timestamp</th>\n",
       "      <th>durationInSec</th>\n",
       "      <th>path</th>\n",
       "      <th>rating</th>\n",
       "      <th>path_length</th>\n",
       "    </tr>\n",
       "  </thead>\n",
       "  <tbody>\n",
       "    <tr>\n",
       "      <th>0</th>\n",
       "      <td>6a3701d319fc3754</td>\n",
       "      <td>1297740409</td>\n",
       "      <td>166</td>\n",
       "      <td>[14th_century, 15th_century, 16th_century, Pac...</td>\n",
       "      <td>NaN</td>\n",
       "      <td>9</td>\n",
       "    </tr>\n",
       "    <tr>\n",
       "      <th>1</th>\n",
       "      <td>3824310e536af032</td>\n",
       "      <td>1344753412</td>\n",
       "      <td>88</td>\n",
       "      <td>[14th_century, Europe, Africa, Atlantic_slave_...</td>\n",
       "      <td>3.0</td>\n",
       "      <td>5</td>\n",
       "    </tr>\n",
       "    <tr>\n",
       "      <th>2</th>\n",
       "      <td>415612e93584d30e</td>\n",
       "      <td>1349298640</td>\n",
       "      <td>138</td>\n",
       "      <td>[14th_century, Niger, Nigeria, British_Empire,...</td>\n",
       "      <td>NaN</td>\n",
       "      <td>8</td>\n",
       "    </tr>\n",
       "    <tr>\n",
       "      <th>3</th>\n",
       "      <td>64dd5cd342e3780c</td>\n",
       "      <td>1265613925</td>\n",
       "      <td>37</td>\n",
       "      <td>[14th_century, Renaissance, Ancient_Greece, Gr...</td>\n",
       "      <td>NaN</td>\n",
       "      <td>4</td>\n",
       "    </tr>\n",
       "    <tr>\n",
       "      <th>4</th>\n",
       "      <td>015245d773376aab</td>\n",
       "      <td>1366730828</td>\n",
       "      <td>175</td>\n",
       "      <td>[14th_century, Italy, Roman_Catholic_Church, H...</td>\n",
       "      <td>3.0</td>\n",
       "      <td>7</td>\n",
       "    </tr>\n",
       "    <tr>\n",
       "      <th>5</th>\n",
       "      <td>5295bca242be81fe</td>\n",
       "      <td>1372890414</td>\n",
       "      <td>110</td>\n",
       "      <td>[14th_century, Europe, North_America, United_S...</td>\n",
       "      <td>NaN</td>\n",
       "      <td>6</td>\n",
       "    </tr>\n",
       "    <tr>\n",
       "      <th>6</th>\n",
       "      <td>36dabfa133b20e3c</td>\n",
       "      <td>1249525912</td>\n",
       "      <td>112</td>\n",
       "      <td>[14th_century, China, Gunpowder, Fire]</td>\n",
       "      <td>2.0</td>\n",
       "      <td>4</td>\n",
       "    </tr>\n",
       "    <tr>\n",
       "      <th>7</th>\n",
       "      <td>20418ff4797f96be</td>\n",
       "      <td>1229188046</td>\n",
       "      <td>139</td>\n",
       "      <td>[14th_century, Time, Isaac_Newton, Light, Colo...</td>\n",
       "      <td>1.0</td>\n",
       "      <td>6</td>\n",
       "    </tr>\n",
       "    <tr>\n",
       "      <th>8</th>\n",
       "      <td>08888b1b428dd90e</td>\n",
       "      <td>1232241510</td>\n",
       "      <td>74</td>\n",
       "      <td>[14th_century, Time, Light, Rainbow]</td>\n",
       "      <td>3.0</td>\n",
       "      <td>4</td>\n",
       "    </tr>\n",
       "    <tr>\n",
       "      <th>9</th>\n",
       "      <td>08888b1b428dd90e</td>\n",
       "      <td>1232241601</td>\n",
       "      <td>167</td>\n",
       "      <td>[14th_century, 15th_century, Plato, Nature, Ul...</td>\n",
       "      <td>NaN</td>\n",
       "      <td>7</td>\n",
       "    </tr>\n",
       "  </tbody>\n",
       "</table>\n",
       "</div>"
      ],
      "text/plain": [
       "    hashedIpAddress   timestamp  durationInSec  \\\n",
       "0  6a3701d319fc3754  1297740409            166   \n",
       "1  3824310e536af032  1344753412             88   \n",
       "2  415612e93584d30e  1349298640            138   \n",
       "3  64dd5cd342e3780c  1265613925             37   \n",
       "4  015245d773376aab  1366730828            175   \n",
       "5  5295bca242be81fe  1372890414            110   \n",
       "6  36dabfa133b20e3c  1249525912            112   \n",
       "7  20418ff4797f96be  1229188046            139   \n",
       "8  08888b1b428dd90e  1232241510             74   \n",
       "9  08888b1b428dd90e  1232241601            167   \n",
       "\n",
       "                                                path  rating  path_length  \n",
       "0  [14th_century, 15th_century, 16th_century, Pac...     NaN            9  \n",
       "1  [14th_century, Europe, Africa, Atlantic_slave_...     3.0            5  \n",
       "2  [14th_century, Niger, Nigeria, British_Empire,...     NaN            8  \n",
       "3  [14th_century, Renaissance, Ancient_Greece, Gr...     NaN            4  \n",
       "4  [14th_century, Italy, Roman_Catholic_Church, H...     3.0            7  \n",
       "5  [14th_century, Europe, North_America, United_S...     NaN            6  \n",
       "6             [14th_century, China, Gunpowder, Fire]     2.0            4  \n",
       "7  [14th_century, Time, Isaac_Newton, Light, Colo...     1.0            6  \n",
       "8               [14th_century, Time, Light, Rainbow]     3.0            4  \n",
       "9  [14th_century, 15th_century, Plato, Nature, Ul...     NaN            7  "
      ]
     },
     "execution_count": 15,
     "metadata": {},
     "output_type": "execute_result"
    }
   ],
   "source": [
    "#add column for path length of finished paths\n",
    "paths_finished_df[\"path_length\"] = paths_finished_df[\"path\"].apply(lambda p: len(p))\n",
    "paths_finished_df.head(10)\n",
    "\n"
   ]
  },
  {
   "cell_type": "code",
   "execution_count": 16,
   "metadata": {},
   "outputs": [
    {
     "data": {
      "text/html": [
       "<div>\n",
       "<style scoped>\n",
       "    .dataframe tbody tr th:only-of-type {\n",
       "        vertical-align: middle;\n",
       "    }\n",
       "\n",
       "    .dataframe tbody tr th {\n",
       "        vertical-align: top;\n",
       "    }\n",
       "\n",
       "    .dataframe thead th {\n",
       "        text-align: right;\n",
       "    }\n",
       "</style>\n",
       "<table border=\"1\" class=\"dataframe\">\n",
       "  <thead>\n",
       "    <tr style=\"text-align: right;\">\n",
       "      <th></th>\n",
       "      <th>hashedIpAddress</th>\n",
       "      <th>timestamp</th>\n",
       "      <th>durationInSec</th>\n",
       "      <th>path</th>\n",
       "      <th>rating</th>\n",
       "      <th>path_length</th>\n",
       "      <th>source</th>\n",
       "      <th>target</th>\n",
       "    </tr>\n",
       "  </thead>\n",
       "  <tbody>\n",
       "    <tr>\n",
       "      <th>0</th>\n",
       "      <td>6a3701d319fc3754</td>\n",
       "      <td>1297740409</td>\n",
       "      <td>166</td>\n",
       "      <td>[14th_century, 15th_century, 16th_century, Pac...</td>\n",
       "      <td>NaN</td>\n",
       "      <td>9</td>\n",
       "      <td>14th_century</td>\n",
       "      <td>African_slave_trade</td>\n",
       "    </tr>\n",
       "    <tr>\n",
       "      <th>1</th>\n",
       "      <td>3824310e536af032</td>\n",
       "      <td>1344753412</td>\n",
       "      <td>88</td>\n",
       "      <td>[14th_century, Europe, Africa, Atlantic_slave_...</td>\n",
       "      <td>3.0</td>\n",
       "      <td>5</td>\n",
       "      <td>14th_century</td>\n",
       "      <td>African_slave_trade</td>\n",
       "    </tr>\n",
       "    <tr>\n",
       "      <th>2</th>\n",
       "      <td>415612e93584d30e</td>\n",
       "      <td>1349298640</td>\n",
       "      <td>138</td>\n",
       "      <td>[14th_century, Niger, Nigeria, British_Empire,...</td>\n",
       "      <td>NaN</td>\n",
       "      <td>8</td>\n",
       "      <td>14th_century</td>\n",
       "      <td>African_slave_trade</td>\n",
       "    </tr>\n",
       "  </tbody>\n",
       "</table>\n",
       "</div>"
      ],
      "text/plain": [
       "    hashedIpAddress   timestamp  durationInSec  \\\n",
       "0  6a3701d319fc3754  1297740409            166   \n",
       "1  3824310e536af032  1344753412             88   \n",
       "2  415612e93584d30e  1349298640            138   \n",
       "\n",
       "                                                path  rating  path_length  \\\n",
       "0  [14th_century, 15th_century, 16th_century, Pac...     NaN            9   \n",
       "1  [14th_century, Europe, Africa, Atlantic_slave_...     3.0            5   \n",
       "2  [14th_century, Niger, Nigeria, British_Empire,...     NaN            8   \n",
       "\n",
       "         source               target  \n",
       "0  14th_century  African_slave_trade  \n",
       "1  14th_century  African_slave_trade  \n",
       "2  14th_century  African_slave_trade  "
      ]
     },
     "execution_count": 16,
     "metadata": {},
     "output_type": "execute_result"
    }
   ],
   "source": [
    "#add a soure and target column to the df as rn the source is only in the path\n",
    "paths_finished_df[\"source\"] = paths_finished_df[\"path\"].apply(lambda p: p[0])\n",
    "paths_finished_df.head(3)\n",
    "paths_finished_df[\"target\"] = paths_finished_df[\"path\"].apply(lambda p: p[-1])\n",
    "paths_finished_df.head(3)\n"
   ]
  },
  {
   "cell_type": "code",
   "execution_count": 17,
   "metadata": {},
   "outputs": [
    {
     "data": {
      "text/html": [
       "<div>\n",
       "<style scoped>\n",
       "    .dataframe tbody tr th:only-of-type {\n",
       "        vertical-align: middle;\n",
       "    }\n",
       "\n",
       "    .dataframe tbody tr th {\n",
       "        vertical-align: top;\n",
       "    }\n",
       "\n",
       "    .dataframe thead th {\n",
       "        text-align: right;\n",
       "    }\n",
       "</style>\n",
       "<table border=\"1\" class=\"dataframe\">\n",
       "  <thead>\n",
       "    <tr style=\"text-align: right;\">\n",
       "      <th></th>\n",
       "      <th>hashedIpAddress</th>\n",
       "      <th>timestamp</th>\n",
       "      <th>durationInSec</th>\n",
       "      <th>path</th>\n",
       "      <th>target</th>\n",
       "      <th>type</th>\n",
       "      <th>path_length</th>\n",
       "    </tr>\n",
       "  </thead>\n",
       "  <tbody>\n",
       "    <tr>\n",
       "      <th>0</th>\n",
       "      <td>2426091a53125110</td>\n",
       "      <td>1297054935</td>\n",
       "      <td>1804</td>\n",
       "      <td>[Obi-Wan_Kenobi]</td>\n",
       "      <td>Microsoft</td>\n",
       "      <td>timeout</td>\n",
       "      <td>1</td>\n",
       "    </tr>\n",
       "    <tr>\n",
       "      <th>1</th>\n",
       "      <td>26141fd878806294</td>\n",
       "      <td>1297055651</td>\n",
       "      <td>1805</td>\n",
       "      <td>[Julius_Caesar]</td>\n",
       "      <td>Caracas</td>\n",
       "      <td>timeout</td>\n",
       "      <td>1</td>\n",
       "    </tr>\n",
       "    <tr>\n",
       "      <th>2</th>\n",
       "      <td>2b015fb8181c48f2</td>\n",
       "      <td>1297090819</td>\n",
       "      <td>1818</td>\n",
       "      <td>[Malawi, Democracy, Alexander_the_Great]</td>\n",
       "      <td>First_Crusade</td>\n",
       "      <td>timeout</td>\n",
       "      <td>3</td>\n",
       "    </tr>\n",
       "    <tr>\n",
       "      <th>3</th>\n",
       "      <td>53a53bc244e08a6a</td>\n",
       "      <td>1297094761</td>\n",
       "      <td>49</td>\n",
       "      <td>[Paraguay]</td>\n",
       "      <td>Mount_St._Helens</td>\n",
       "      <td>restart</td>\n",
       "      <td>1</td>\n",
       "    </tr>\n",
       "    <tr>\n",
       "      <th>4</th>\n",
       "      <td>53a53bc244e08a6a</td>\n",
       "      <td>1297099105</td>\n",
       "      <td>1808</td>\n",
       "      <td>[Paraguay, Bolivia]</td>\n",
       "      <td>Mount_St._Helens</td>\n",
       "      <td>timeout</td>\n",
       "      <td>2</td>\n",
       "    </tr>\n",
       "    <tr>\n",
       "      <th>5</th>\n",
       "      <td>131600803df4895e</td>\n",
       "      <td>1297100557</td>\n",
       "      <td>2009</td>\n",
       "      <td>[Agriculture, History_of_the_world, China, Yan...</td>\n",
       "      <td>Grand_Canal_of_China</td>\n",
       "      <td>timeout</td>\n",
       "      <td>4</td>\n",
       "    </tr>\n",
       "    <tr>\n",
       "      <th>6</th>\n",
       "      <td>486bb79910fe9dd2</td>\n",
       "      <td>1297101660</td>\n",
       "      <td>1932</td>\n",
       "      <td>[Mind, Christianity, Europe, Renaissance, Anci...</td>\n",
       "      <td>Scouting</td>\n",
       "      <td>timeout</td>\n",
       "      <td>7</td>\n",
       "    </tr>\n",
       "    <tr>\n",
       "      <th>7</th>\n",
       "      <td>6d136e371e42474f</td>\n",
       "      <td>1297102070</td>\n",
       "      <td>175</td>\n",
       "      <td>[4-2-0, United_States, Agriculture, Sugar, Aus...</td>\n",
       "      <td>Cane_Toad</td>\n",
       "      <td>restart</td>\n",
       "      <td>5</td>\n",
       "    </tr>\n",
       "    <tr>\n",
       "      <th>8</th>\n",
       "      <td>6d136e371e42474f</td>\n",
       "      <td>1297102100</td>\n",
       "      <td>19</td>\n",
       "      <td>[Logic]</td>\n",
       "      <td>Moon_landing</td>\n",
       "      <td>restart</td>\n",
       "      <td>1</td>\n",
       "    </tr>\n",
       "    <tr>\n",
       "      <th>9</th>\n",
       "      <td>6d136e371e42474f</td>\n",
       "      <td>1297104110</td>\n",
       "      <td>2006</td>\n",
       "      <td>[Logic, Computer_science, Science, Physical_sc...</td>\n",
       "      <td>Moon_landing</td>\n",
       "      <td>timeout</td>\n",
       "      <td>9</td>\n",
       "    </tr>\n",
       "  </tbody>\n",
       "</table>\n",
       "</div>"
      ],
      "text/plain": [
       "    hashedIpAddress   timestamp  durationInSec  \\\n",
       "0  2426091a53125110  1297054935           1804   \n",
       "1  26141fd878806294  1297055651           1805   \n",
       "2  2b015fb8181c48f2  1297090819           1818   \n",
       "3  53a53bc244e08a6a  1297094761             49   \n",
       "4  53a53bc244e08a6a  1297099105           1808   \n",
       "5  131600803df4895e  1297100557           2009   \n",
       "6  486bb79910fe9dd2  1297101660           1932   \n",
       "7  6d136e371e42474f  1297102070            175   \n",
       "8  6d136e371e42474f  1297102100             19   \n",
       "9  6d136e371e42474f  1297104110           2006   \n",
       "\n",
       "                                                path                target  \\\n",
       "0                                   [Obi-Wan_Kenobi]             Microsoft   \n",
       "1                                    [Julius_Caesar]               Caracas   \n",
       "2           [Malawi, Democracy, Alexander_the_Great]         First_Crusade   \n",
       "3                                         [Paraguay]      Mount_St._Helens   \n",
       "4                                [Paraguay, Bolivia]      Mount_St._Helens   \n",
       "5  [Agriculture, History_of_the_world, China, Yan...  Grand_Canal_of_China   \n",
       "6  [Mind, Christianity, Europe, Renaissance, Anci...              Scouting   \n",
       "7  [4-2-0, United_States, Agriculture, Sugar, Aus...             Cane_Toad   \n",
       "8                                            [Logic]          Moon_landing   \n",
       "9  [Logic, Computer_science, Science, Physical_sc...          Moon_landing   \n",
       "\n",
       "      type  path_length  \n",
       "0  timeout            1  \n",
       "1  timeout            1  \n",
       "2  timeout            3  \n",
       "3  restart            1  \n",
       "4  timeout            2  \n",
       "5  timeout            4  \n",
       "6  timeout            7  \n",
       "7  restart            5  \n",
       "8  restart            1  \n",
       "9  timeout            9  "
      ]
     },
     "execution_count": 17,
     "metadata": {},
     "output_type": "execute_result"
    }
   ],
   "source": [
    "paths_unfinished_df[\"path_length\"] = paths_unfinished_df[\"path\"].apply(lambda p: len(p))\n",
    "paths_unfinished_df.head(10)"
   ]
  },
  {
   "cell_type": "code",
   "execution_count": 18,
   "metadata": {},
   "outputs": [
    {
     "data": {
      "text/html": [
       "<div>\n",
       "<style scoped>\n",
       "    .dataframe tbody tr th:only-of-type {\n",
       "        vertical-align: middle;\n",
       "    }\n",
       "\n",
       "    .dataframe tbody tr th {\n",
       "        vertical-align: top;\n",
       "    }\n",
       "\n",
       "    .dataframe thead th {\n",
       "        text-align: right;\n",
       "    }\n",
       "</style>\n",
       "<table border=\"1\" class=\"dataframe\">\n",
       "  <thead>\n",
       "    <tr style=\"text-align: right;\">\n",
       "      <th></th>\n",
       "      <th>hashedIpAddress</th>\n",
       "      <th>timestamp</th>\n",
       "      <th>durationInSec</th>\n",
       "      <th>path</th>\n",
       "      <th>target</th>\n",
       "      <th>type</th>\n",
       "      <th>path_length</th>\n",
       "      <th>source</th>\n",
       "    </tr>\n",
       "  </thead>\n",
       "  <tbody>\n",
       "    <tr>\n",
       "      <th>0</th>\n",
       "      <td>2426091a53125110</td>\n",
       "      <td>1297054935</td>\n",
       "      <td>1804</td>\n",
       "      <td>[Obi-Wan_Kenobi]</td>\n",
       "      <td>Microsoft</td>\n",
       "      <td>timeout</td>\n",
       "      <td>1</td>\n",
       "      <td>Obi-Wan_Kenobi</td>\n",
       "    </tr>\n",
       "    <tr>\n",
       "      <th>1</th>\n",
       "      <td>26141fd878806294</td>\n",
       "      <td>1297055651</td>\n",
       "      <td>1805</td>\n",
       "      <td>[Julius_Caesar]</td>\n",
       "      <td>Caracas</td>\n",
       "      <td>timeout</td>\n",
       "      <td>1</td>\n",
       "      <td>Julius_Caesar</td>\n",
       "    </tr>\n",
       "    <tr>\n",
       "      <th>2</th>\n",
       "      <td>2b015fb8181c48f2</td>\n",
       "      <td>1297090819</td>\n",
       "      <td>1818</td>\n",
       "      <td>[Malawi, Democracy, Alexander_the_Great]</td>\n",
       "      <td>First_Crusade</td>\n",
       "      <td>timeout</td>\n",
       "      <td>3</td>\n",
       "      <td>Malawi</td>\n",
       "    </tr>\n",
       "  </tbody>\n",
       "</table>\n",
       "</div>"
      ],
      "text/plain": [
       "    hashedIpAddress   timestamp  durationInSec  \\\n",
       "0  2426091a53125110  1297054935           1804   \n",
       "1  26141fd878806294  1297055651           1805   \n",
       "2  2b015fb8181c48f2  1297090819           1818   \n",
       "\n",
       "                                       path         target     type  \\\n",
       "0                          [Obi-Wan_Kenobi]      Microsoft  timeout   \n",
       "1                           [Julius_Caesar]        Caracas  timeout   \n",
       "2  [Malawi, Democracy, Alexander_the_Great]  First_Crusade  timeout   \n",
       "\n",
       "   path_length          source  \n",
       "0            1  Obi-Wan_Kenobi  \n",
       "1            1   Julius_Caesar  \n",
       "2            3          Malawi  "
      ]
     },
     "execution_count": 18,
     "metadata": {},
     "output_type": "execute_result"
    }
   ],
   "source": [
    "#add a soure column to the df as rn the source is only in the path\n",
    "paths_unfinished_df[\"source\"] = paths_unfinished_df[\"path\"].apply(lambda p: p[0])\n",
    "paths_unfinished_df.head(3)\n"
   ]
  },
  {
   "cell_type": "code",
   "execution_count": 19,
   "metadata": {},
   "outputs": [
    {
     "name": "stdout",
     "output_type": "stream",
     "text": [
      "The number of unfinished paths that timed out without the player making a move are 2009\n"
     ]
    }
   ],
   "source": [
    "#there are some paths that timed out without the player navigating, so path_length 1 and type timeout\n",
    "print(f\"The number of unfinished paths that timed out without the player making a move are {len(paths_unfinished_df[(paths_unfinished_df['type'] == 'timeout') & (paths_unfinished_df['path_length'] == 1)])}\")\n"
   ]
  },
  {
   "cell_type": "code",
   "execution_count": 20,
   "metadata": {},
   "outputs": [],
   "source": [
    "#we drop them...\n",
    "paths_unfinished_df = paths_unfinished_df[~((paths_unfinished_df[\"type\"] == \"timeout\") & (paths_unfinished_df[\"path_length\"] == 1))]\n"
   ]
  },
  {
   "cell_type": "code",
   "execution_count": 21,
   "metadata": {},
   "outputs": [
    {
     "data": {
      "text/html": [
       "<div>\n",
       "<style scoped>\n",
       "    .dataframe tbody tr th:only-of-type {\n",
       "        vertical-align: middle;\n",
       "    }\n",
       "\n",
       "    .dataframe tbody tr th {\n",
       "        vertical-align: top;\n",
       "    }\n",
       "\n",
       "    .dataframe thead th {\n",
       "        text-align: right;\n",
       "    }\n",
       "</style>\n",
       "<table border=\"1\" class=\"dataframe\">\n",
       "  <thead>\n",
       "    <tr style=\"text-align: right;\">\n",
       "      <th></th>\n",
       "      <th>finished</th>\n",
       "      <th>unfinished</th>\n",
       "      <th>total_paths</th>\n",
       "      <th>backtracked_percentage_finished</th>\n",
       "      <th>backtracked_percentage_unfinished</th>\n",
       "    </tr>\n",
       "  </thead>\n",
       "  <tbody>\n",
       "    <tr>\n",
       "      <th>0</th>\n",
       "      <td>51318.0</td>\n",
       "      <td>22866.0</td>\n",
       "      <td>74184.0</td>\n",
       "      <td>0.0</td>\n",
       "      <td>0.0</td>\n",
       "    </tr>\n",
       "  </tbody>\n",
       "</table>\n",
       "</div>"
      ],
      "text/plain": [
       "   finished  unfinished  total_paths  backtracked_percentage_finished  \\\n",
       "0   51318.0     22866.0      74184.0                              0.0   \n",
       "\n",
       "   backtracked_percentage_unfinished  \n",
       "0                                0.0  "
      ]
     },
     "metadata": {},
     "output_type": "display_data"
    },
    {
     "data": {
      "text/html": [
       "<div>\n",
       "<style scoped>\n",
       "    .dataframe tbody tr th:only-of-type {\n",
       "        vertical-align: middle;\n",
       "    }\n",
       "\n",
       "    .dataframe tbody tr th {\n",
       "        vertical-align: top;\n",
       "    }\n",
       "\n",
       "    .dataframe thead th {\n",
       "        text-align: right;\n",
       "    }\n",
       "</style>\n",
       "<table border=\"1\" class=\"dataframe\">\n",
       "  <thead>\n",
       "    <tr style=\"text-align: right;\">\n",
       "      <th></th>\n",
       "      <th>Path Type</th>\n",
       "      <th>Number of Paths</th>\n",
       "    </tr>\n",
       "  </thead>\n",
       "  <tbody>\n",
       "    <tr>\n",
       "      <th>0</th>\n",
       "      <td>Finished</td>\n",
       "      <td>51318</td>\n",
       "    </tr>\n",
       "    <tr>\n",
       "      <th>1</th>\n",
       "      <td>Unfinished</td>\n",
       "      <td>22866</td>\n",
       "    </tr>\n",
       "  </tbody>\n",
       "</table>\n",
       "</div>"
      ],
      "text/plain": [
       "    Path Type  Number of Paths\n",
       "0    Finished            51318\n",
       "1  Unfinished            22866"
      ]
     },
     "metadata": {},
     "output_type": "display_data"
    },
    {
     "data": {
      "image/png": "[encoded data removed]",
      "text/plain": [
       "<Figure size 800x600 with 1 Axes>"
      ]
     },
     "metadata": {},
     "output_type": "display_data"
    }
   ],
   "source": [
    "#AFTER CLEANUP\n",
    "finished_unfinished_summary_df = pd.DataFrame(columns=[\"finished\", \"unfinished\", \"total_paths\", \"backtracked_percentage_finished\", \"backtracked_percentage_unfinished\"])\n",
    "# finished_unfinished_summary_df[\"finished\"] = len(paths_finished_df)\n",
    "# finished_unfinished_summary_df[\"unfinished\"] = len(paths_unfinished_df)\n",
    "# finished_unfinished_summary_df[\"total_paths\"] = \n",
    "finished_paths = len(paths_finished_df)\n",
    "\n",
    "# Number of unfinished paths\n",
    "unfinished_paths = len(paths_unfinished_df)\n",
    "\n",
    "# Total number of paths\n",
    "total_paths = finished_paths + unfinished_paths\n",
    "\n",
    "# Percentage of paths with a backtrack for finished paths\n",
    "backtrack_percentage_finished = (len(backtracked_finished) / finished_paths)*100 if finished_paths > 0 else 0\n",
    "\n",
    "# Percentage of paths with a backtrack for unfinished paths\n",
    "backtrack_percentage_unfinished = (len(backtracked_unfinished) / unfinished_paths)*100 if unfinished_paths > 0 else 0\n",
    "\n",
    "# Add these values to the summary DataFrame\n",
    "finished_unfinished_summary_df.loc[0] = [finished_paths, unfinished_paths, total_paths, backtrack_percentage_finished, backtrack_percentage_unfinished]\n",
    "display(finished_unfinished_summary_df)\n",
    "\n",
    "bar_paths_data = pd.DataFrame({\n",
    "    'Path Type': ['Finished', 'Unfinished'],\n",
    "    'Number of Paths': [finished_paths, unfinished_paths]\n",
    "})\n",
    "display(bar_paths_data)\n",
    "\n",
    "# Create bar plot\n",
    "plt.figure(figsize=(8, 6))\n",
    "axs = sns.barplot(x='Path Type', y='Number of Paths', data=bar_paths_data)\n",
    "plt.title('Number of Finished and Unfinished Paths')\n",
    "plt.xlabel('Path Type')\n",
    "plt.ylabel('Number of Paths')\n",
    "for bar in axs.containers:\n",
    "  axs.bar_label(bar, fmt='%.0f', label_type='edge')\n",
    "plt.show()\n",
    "\n",
    "\n"
   ]
  },
  {
   "cell_type": "markdown",
   "metadata": {},
   "source": [
    "## CONECTIVITY GRAPH AND PATHS"
   ]
  },
  {
   "cell_type": "code",
   "execution_count": 25,
   "metadata": {},
   "outputs": [
    {
     "data": {
      "text/plain": [
       "<4592x4592 sparse array of type '<class 'numpy.int64'>'\n",
       "\twith 119882 stored elements in Compressed Sparse Row format>"
      ]
     },
     "execution_count": 25,
     "metadata": {},
     "output_type": "execute_result"
    }
   ],
   "source": [
    "links_df = pd.read_csv(\"data_processed/links_processed.csv\")\n",
    "links_df.head(3)\n",
    "\n",
    "links_G = nx.from_pandas_edgelist(links_df, create_using=nx.DiGraph(), source=\"link_source\", target=\"link_target\")\n",
    "\n",
    "#gt the adjacency matrix\n",
    "adj_matrix = nx.adjacency_matrix(links_G)\n",
    "adj_matrix\n",
    "\n",
    "\n",
    "\n"
   ]
  },
  {
   "cell_type": "code",
   "execution_count": 26,
   "metadata": {},
   "outputs": [
    {
     "data": {
      "image/png": "[encoded data removed]",
      "text/plain": [
       "<Figure size 640x480 with 1 Axes>"
      ]
     },
     "metadata": {},
     "output_type": "display_data"
    }
   ],
   "source": [
    "nx.draw(links_G, with_labels=True)\n",
    "plt.show()"
   ]
  },
  {
   "cell_type": "markdown",
   "metadata": {},
   "source": [
    "# LOOKING AT CENTRALITY"
   ]
  },
  {
   "cell_type": "code",
   "execution_count": 29,
   "metadata": {},
   "outputs": [
    {
     "name": "stdout",
     "output_type": "stream",
     "text": [
      "the most central nodes in our graph are:\n"
     ]
    },
    {
     "data": {
      "text/plain": [
       "['United States',\n",
       " 'United Kingdom',\n",
       " 'Europe',\n",
       " 'France',\n",
       " 'England',\n",
       " 'Germany',\n",
       " 'World War II',\n",
       " 'English language',\n",
       " 'India',\n",
       " 'London']"
      ]
     },
     "execution_count": 29,
     "metadata": {},
     "output_type": "execute_result"
    }
   ],
   "source": [
    "# considering in edges + out edges divided by the max degree in the graph (n-1)\n",
    "centrality = nx.degree_centrality(links_G)\n",
    "#find the top 10 central nodes\n",
    "most_connected_nodes = sorted(centrality, key=centrality.get, reverse=True)[:10]\n",
    "print(\"The most central nodes in our graph are:\")\n",
    "most_connected_nodes\n",
    "\n",
    "\n"
   ]
  },
  {
   "cell_type": "code",
   "execution_count": null,
   "metadata": {},
   "outputs": [],
   "source": []
  }
 ],
 "metadata": {
  "kernelspec": {
   "display_name": "ada",
   "language": "python",
   "name": "python3"
  },
  "language_info": {
   "codemirror_mode": {
    "name": "ipython",
    "version": 3
   },
   "file_extension": ".py",
   "mimetype": "text/x-python",
   "name": "python",
   "nbconvert_exporter": "python",
   "pygments_lexer": "ipython3",
   "version": "3.11.9"
  }
 },
 "nbformat": 4,
 "nbformat_minor": 2
}
